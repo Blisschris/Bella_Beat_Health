{
 "cells": [
  {
   "cell_type": "markdown",
   "id": "ad38e603-d678-4577-83c3-ad248272c4a8",
   "metadata": {
    "tags": []
   },
   "source": [
    "---\n",
    "### Title: \"BellaBeat Case Study\"\n",
    "### Author: \"Christian Little\"\n",
    "### Date: \"2022-08-18\""
   ]
  },
  {
   "cell_type": "markdown",
   "id": "7bf916a5-476f-41ac-a6c2-61b1b82d3441",
   "metadata": {
    "tags": []
   },
   "source": [
    "## Introduction\n",
    "BellaBeat is a wellness company that focuses on women health and daily habits. A company which was founded in 2013 by Urška Sršen and Sando Mur. Ever since its start in San Francisco, they have expanded rapidly in the global smart device market. Devices they offer are wearable smart bracelets, smart watches, necklaces, and Hi-tech drinkable water bottles. Each device with its own unique capability to help track womens daily activity. These items help empower women into bringing healthier life decisions to the table. Relevant data is collected throughout they day and proposes new ideas and advice to help further meet their goals. Tabs on hydration levels, sleep activity, menstrual cycles, calories, distance, and stress are all components to making a healthier lifestyle. All of which is kept on an app to ensure women are keeping a personalized and organized lifestyle with the information provided. Bellabeat membership is a subscription based membership that gives the users 24/7 access to personalized guidance on nutrition, activity, sleep, beauty, and mindfulness."
   ]
  },
  {
   "cell_type": "markdown",
   "id": "a23d6622-e509-4225-aa7d-2e238359027b",
   "metadata": {},
   "source": [
    "# Act:"
   ]
  },
  {
   "cell_type": "markdown",
   "id": "a9b15340-570a-4e8a-803e-5140321e0a3e",
   "metadata": {},
   "source": [
    "### 1. Identify the Business task:"
   ]
  },
  {
   "cell_type": "markdown",
   "id": "d1e19f16-be97-4218-9b4d-6b9a2c8058b5",
   "metadata": {},
   "source": [
    "analyze smart device usage data in order to gain insight on growing the company with recommendations and smart business strategies."
   ]
  },
  {
   "cell_type": "markdown",
   "id": "df9e0cd9-cb4b-48f7-923c-8a479568ba08",
   "metadata": {},
   "source": [
    "### 2. Questions for the analysis:"
   ]
  },
  {
   "cell_type": "markdown",
   "id": "13e159d3-a695-4398-acbd-c27dffda5c61",
   "metadata": {},
   "source": [
    "- What are some trends in smart device usage?\n",
    "\n",
    "- How could these trends apply to Bellabeat customers?\n",
    "\n",
    "- How could these trends help influence Bellabeat marketing strategy?"
   ]
  },
  {
   "cell_type": "markdown",
   "id": "db9fe39f-6899-4fd9-8e15-a1908654c633",
   "metadata": {},
   "source": [
    "### 3. Key task:"
   ]
  },
  {
   "cell_type": "markdown",
   "id": "ec790edb-d5af-461a-87f5-4cab2b243345",
   "metadata": {},
   "source": [
    "Consider stakeholders Urška Sršen and Sando Mur"
   ]
  },
  {
   "cell_type": "markdown",
   "id": "4e713583-a8ee-4699-bf1a-4fb4ae65e644",
   "metadata": {},
   "source": [
    "# Prepare:"
   ]
  },
  {
   "cell_type": "markdown",
   "id": "8996e3a8-9153-4c6a-99a0-67c7e70d2a46",
   "metadata": {},
   "source": [
    "The data for this analysis will come from [FitBit Fitness Tracker](https://www.kaggle.com/datasets/arashnic/fitbit) Data on Kaggle. This data set is composed of 18 csv files all composed within 2016. A total of 38 users consented to the submission of their personal data. Data in which monitored their sleep, physical activity, heart rate, and weight. However, some information is limited due to sample size in some areas, location, age, and lifestyle. For this analysis the datasets of daily activity, weight log, sleep, heart rate, and daily intensities will be used. These files were brought into Google sheets and transfered to R studio for an accurate analysis.\n"
   ]
  },
  {
   "cell_type": "markdown",
   "id": "c90c418c-f001-4131-be29-f24fb067e26b",
   "metadata": {
    "tags": []
   },
   "source": [
    "### Installing and loading packages"
   ]
  },
  {
   "cell_type": "code",
   "execution_count": 8,
   "id": "bcbfefa8-317a-483e-89e7-211470105466",
   "metadata": {
    "collapsed": true,
    "jupyter": {
     "outputs_hidden": true
    },
    "tags": []
   },
   "outputs": [
    {
     "name": "stderr",
     "output_type": "stream",
     "text": [
      "Warning message:\n",
      "\"package 'tidyverse' is in use and will not be installed\"\n",
      "Warning message:\n",
      "\"package 'readr' is in use and will not be installed\"\n"
     ]
    },
    {
     "name": "stdout",
     "output_type": "stream",
     "text": [
      "package 'here' successfully unpacked and MD5 sums checked\n",
      "\n",
      "The downloaded binary packages are in\n",
      "\tC:\\Users\\Otis\\AppData\\Local\\Temp\\RtmpKSU0kn\\downloaded_packages\n",
      "package 'janitor' successfully unpacked and MD5 sums checked\n",
      "\n",
      "The downloaded binary packages are in\n",
      "\tC:\\Users\\Otis\\AppData\\Local\\Temp\\RtmpKSU0kn\\downloaded_packages\n"
     ]
    },
    {
     "name": "stderr",
     "output_type": "stream",
     "text": [
      "also installing the dependencies 'plogr', 'gsubfn', 'proto', 'RSQLite', 'chron'\n",
      "\n",
      "\n"
     ]
    },
    {
     "name": "stdout",
     "output_type": "stream",
     "text": [
      "package 'plogr' successfully unpacked and MD5 sums checked\n",
      "package 'gsubfn' successfully unpacked and MD5 sums checked\n",
      "package 'proto' successfully unpacked and MD5 sums checked\n",
      "package 'RSQLite' successfully unpacked and MD5 sums checked\n",
      "package 'chron' successfully unpacked and MD5 sums checked\n",
      "package 'sqldf' successfully unpacked and MD5 sums checked\n",
      "\n",
      "The downloaded binary packages are in\n",
      "\tC:\\Users\\Otis\\AppData\\Local\\Temp\\RtmpKSU0kn\\downloaded_packages\n"
     ]
    },
    {
     "name": "stderr",
     "output_type": "stream",
     "text": [
      "Loading required package: gsubfn\n",
      "\n",
      "Loading required package: proto\n",
      "\n",
      "Loading required package: RSQLite\n",
      "\n",
      "here() starts at C:/Users/Otis\n",
      "\n"
     ]
    }
   ],
   "source": [
    "install.packages(\"tidyverse\", repos='http://cran.us.r-project.org')\n",
    "install.packages(\"readr\", repos='http://cran.us.r-project.org')\n",
    "install.packages(\"here\", repos='http://cran.us.r-project.org')\n",
    "install.packages(\"janitor\", repos='http://cran.us.r-project.org')\n",
    "install.packages(\"sqldf\", repos='http://cran.us.r-project.org')\n",
    "library(tidyverse)\n",
    "library(readr)\n",
    "library(sqldf)\n",
    "library(here)"
   ]
  },
  {
   "cell_type": "markdown",
   "id": "515067a2-8788-481e-a851-b0da033dd670",
   "metadata": {
    "tags": []
   },
   "source": [
    "# importing datasets"
   ]
  },
  {
   "cell_type": "code",
   "execution_count": 25,
   "id": "7899fa42-db83-4e9b-a77f-26cdce914a53",
   "metadata": {
    "tags": []
   },
   "outputs": [
    {
     "name": "stderr",
     "output_type": "stream",
     "text": [
      "\u001b[1mRows: \u001b[22m\u001b[34m940\u001b[39m \u001b[1mColumns: \u001b[22m\u001b[34m15\u001b[39m\n",
      "\u001b[36m──\u001b[39m \u001b[1mColumn specification\u001b[22m \u001b[36m────────────────────────────────────────────────────────\u001b[39m\n",
      "\u001b[1mDelimiter:\u001b[22m \",\"\n",
      "\u001b[31mchr\u001b[39m  (1): ActivityDate\n",
      "\u001b[32mdbl\u001b[39m (14): Id, TotalSteps, TotalDistance, TrackerDistance, LoggedActivitiesDi...\n",
      "\n",
      "\u001b[36mℹ\u001b[39m Use `spec()` to retrieve the full column specification for this data.\n",
      "\u001b[36mℹ\u001b[39m Specify the column types or set `show_col_types = FALSE` to quiet this message.\n",
      "\u001b[1mRows: \u001b[22m\u001b[34m940\u001b[39m \u001b[1mColumns: \u001b[22m\u001b[34m3\u001b[39m\n",
      "\u001b[36m──\u001b[39m \u001b[1mColumn specification\u001b[22m \u001b[36m────────────────────────────────────────────────────────\u001b[39m\n",
      "\u001b[1mDelimiter:\u001b[22m \",\"\n",
      "\u001b[31mchr\u001b[39m (1): ActivityDay\n",
      "\u001b[32mdbl\u001b[39m (2): Id, Calories\n",
      "\n",
      "\u001b[36mℹ\u001b[39m Use `spec()` to retrieve the full column specification for this data.\n",
      "\u001b[36mℹ\u001b[39m Specify the column types or set `show_col_types = FALSE` to quiet this message.\n",
      "\u001b[1mRows: \u001b[22m\u001b[34m940\u001b[39m \u001b[1mColumns: \u001b[22m\u001b[34m10\u001b[39m\n",
      "\u001b[36m──\u001b[39m \u001b[1mColumn specification\u001b[22m \u001b[36m────────────────────────────────────────────────────────\u001b[39m\n",
      "\u001b[1mDelimiter:\u001b[22m \",\"\n",
      "\u001b[31mchr\u001b[39m (1): ActivityDay\n",
      "\u001b[32mdbl\u001b[39m (9): Id, SedentaryMinutes, LightlyActiveMinutes, FairlyActiveMinutes, Ve...\n",
      "\n",
      "\u001b[36mℹ\u001b[39m Use `spec()` to retrieve the full column specification for this data.\n",
      "\u001b[36mℹ\u001b[39m Specify the column types or set `show_col_types = FALSE` to quiet this message.\n",
      "\u001b[1mRows: \u001b[22m\u001b[34m940\u001b[39m \u001b[1mColumns: \u001b[22m\u001b[34m3\u001b[39m\n",
      "\u001b[36m──\u001b[39m \u001b[1mColumn specification\u001b[22m \u001b[36m────────────────────────────────────────────────────────\u001b[39m\n",
      "\u001b[1mDelimiter:\u001b[22m \",\"\n",
      "\u001b[31mchr\u001b[39m (1): ActivityDay\n",
      "\u001b[32mdbl\u001b[39m (2): Id, StepTotal\n",
      "\n",
      "\u001b[36mℹ\u001b[39m Use `spec()` to retrieve the full column specification for this data.\n",
      "\u001b[36mℹ\u001b[39m Specify the column types or set `show_col_types = FALSE` to quiet this message.\n",
      "\u001b[1mRows: \u001b[22m\u001b[34m2483658\u001b[39m \u001b[1mColumns: \u001b[22m\u001b[34m3\u001b[39m\n",
      "\u001b[36m──\u001b[39m \u001b[1mColumn specification\u001b[22m \u001b[36m────────────────────────────────────────────────────────\u001b[39m\n",
      "\u001b[1mDelimiter:\u001b[22m \",\"\n",
      "\u001b[31mchr\u001b[39m (1): Time\n",
      "\u001b[32mdbl\u001b[39m (2): Id, Value\n",
      "\n",
      "\u001b[36mℹ\u001b[39m Use `spec()` to retrieve the full column specification for this data.\n",
      "\u001b[36mℹ\u001b[39m Specify the column types or set `show_col_types = FALSE` to quiet this message.\n",
      "\u001b[1mRows: \u001b[22m\u001b[34m413\u001b[39m \u001b[1mColumns: \u001b[22m\u001b[34m5\u001b[39m\n",
      "\u001b[36m──\u001b[39m \u001b[1mColumn specification\u001b[22m \u001b[36m────────────────────────────────────────────────────────\u001b[39m\n",
      "\u001b[1mDelimiter:\u001b[22m \",\"\n",
      "\u001b[31mchr\u001b[39m (1): SleepDay\n",
      "\u001b[32mdbl\u001b[39m (4): Id, TotalSleepRecords, TotalMinutesAsleep, TotalTimeInBed\n",
      "\n",
      "\u001b[36mℹ\u001b[39m Use `spec()` to retrieve the full column specification for this data.\n",
      "\u001b[36mℹ\u001b[39m Specify the column types or set `show_col_types = FALSE` to quiet this message.\n",
      "\u001b[1mRows: \u001b[22m\u001b[34m67\u001b[39m \u001b[1mColumns: \u001b[22m\u001b[34m8\u001b[39m\n",
      "\u001b[36m──\u001b[39m \u001b[1mColumn specification\u001b[22m \u001b[36m────────────────────────────────────────────────────────\u001b[39m\n",
      "\u001b[1mDelimiter:\u001b[22m \",\"\n",
      "\u001b[31mchr\u001b[39m (1): Date\n",
      "\u001b[32mdbl\u001b[39m (6): Id, WeightKg, WeightPounds, Fat, BMI, LogId\n",
      "\u001b[33mlgl\u001b[39m (1): IsManualReport\n",
      "\n",
      "\u001b[36mℹ\u001b[39m Use `spec()` to retrieve the full column specification for this data.\n",
      "\u001b[36mℹ\u001b[39m Specify the column types or set `show_col_types = FALSE` to quiet this message.\n",
      "\u001b[1mRows: \u001b[22m\u001b[34m21645\u001b[39m \u001b[1mColumns: \u001b[22m\u001b[34m62\u001b[39m\n",
      "\u001b[36m──\u001b[39m \u001b[1mColumn specification\u001b[22m \u001b[36m────────────────────────────────────────────────────────\u001b[39m\n",
      "\u001b[1mDelimiter:\u001b[22m \",\"\n",
      "\u001b[31mchr\u001b[39m  (1): ActivityHour\n",
      "\u001b[32mdbl\u001b[39m (61): Id, Steps00, Steps01, Steps02, Steps03, Steps04, Steps05, Steps06,...\n",
      "\n",
      "\u001b[36mℹ\u001b[39m Use `spec()` to retrieve the full column specification for this data.\n",
      "\u001b[36mℹ\u001b[39m Specify the column types or set `show_col_types = FALSE` to quiet this message.\n"
     ]
    }
   ],
   "source": [
    "daily_activity <- read_csv(\"C:/Users/Otis/Desktop/Bellabeat_2022_07_08/dailyActivity_merged.csv\")\n",
    "daily_calories <- read_csv(\"C:/Users/Otis/Desktop/Bellabeat_2022_07_08/dailyCalories_merged.csv\")\n",
    "daily_intensities <- read_csv(\"C:/Users/Otis/Desktop/Bellabeat_2022_07_08/dailyIntensities_merged.csv\")\n",
    "daily_steps<- read_csv(\"C:/Users/Otis/Desktop/bb/Fitabase Data 4.12.16-5.12.16/dailySteps_merged.csv\")\n",
    "heart_rate <- read_csv(\"C:/Users/Otis/Desktop/Bellabeat_2022_07_08/heartrate_seconds_merged.csv\")\n",
    "sleep_day <- read_csv(\"C:/Users/Otis/Desktop/Bellabeat_2022_07_08/sleepDay_merged.csv\")\n",
    "weight_log <- read_csv(\"C:/Users/Otis/Desktop/Bellabeat_2022_07_08/weightLogInfo_merged.csv\")\n",
    "minute_steps <- read_csv(\"C:/Users/Otis/Desktop/Bellabeat_2022_07_08/minuteStepsWide_merged.csv\")\n"
   ]
  },
  {
   "cell_type": "markdown",
   "id": "5ea95faa-0722-4048-8f53-fa2999499c6e",
   "metadata": {},
   "source": [
    "# Process:"
   ]
  },
  {
   "cell_type": "markdown",
   "id": "3c22d965-b2c6-4289-be4b-f85019d99c61",
   "metadata": {},
   "source": [
    "### Viewing the Data frames"
   ]
  },
  {
   "cell_type": "markdown",
   "id": "d792317a-e396-4b65-9176-d7f342597bfb",
   "metadata": {},
   "source": [
    "To make sure the data was imported accurately, certain functions were used to guarantee. The head() and Glimpse() function."
   ]
  },
  {
   "cell_type": "code",
   "execution_count": 10,
   "id": "30d152ed-91a2-415f-89d7-8bf1c34b8f00",
   "metadata": {},
   "outputs": [
    {
     "data": {
      "text/html": [
       "<table class=\"dataframe\">\n",
       "<caption>A tibble: 6 × 15</caption>\n",
       "<thead>\n",
       "\t<tr><th scope=col>Id</th><th scope=col>ActivityDate</th><th scope=col>TotalSteps</th><th scope=col>TotalDistance</th><th scope=col>TrackerDistance</th><th scope=col>LoggedActivitiesDistance</th><th scope=col>VeryActiveDistance</th><th scope=col>ModeratelyActiveDistance</th><th scope=col>LightActiveDistance</th><th scope=col>SedentaryActiveDistance</th><th scope=col>VeryActiveMinutes</th><th scope=col>FairlyActiveMinutes</th><th scope=col>LightlyActiveMinutes</th><th scope=col>SedentaryMinutes</th><th scope=col>Calories</th></tr>\n",
       "\t<tr><th scope=col>&lt;dbl&gt;</th><th scope=col>&lt;chr&gt;</th><th scope=col>&lt;dbl&gt;</th><th scope=col>&lt;dbl&gt;</th><th scope=col>&lt;dbl&gt;</th><th scope=col>&lt;dbl&gt;</th><th scope=col>&lt;dbl&gt;</th><th scope=col>&lt;dbl&gt;</th><th scope=col>&lt;dbl&gt;</th><th scope=col>&lt;dbl&gt;</th><th scope=col>&lt;dbl&gt;</th><th scope=col>&lt;dbl&gt;</th><th scope=col>&lt;dbl&gt;</th><th scope=col>&lt;dbl&gt;</th><th scope=col>&lt;dbl&gt;</th></tr>\n",
       "</thead>\n",
       "<tbody>\n",
       "\t<tr><td>1503960366</td><td>4/12/2016</td><td>13162</td><td>8.50</td><td>8.50</td><td>0</td><td>1.88</td><td>0.55</td><td>6.06</td><td>0</td><td>25</td><td>13</td><td>328</td><td> 728</td><td>1985</td></tr>\n",
       "\t<tr><td>1503960366</td><td>4/13/2016</td><td>10735</td><td>6.97</td><td>6.97</td><td>0</td><td>1.57</td><td>0.69</td><td>4.71</td><td>0</td><td>21</td><td>19</td><td>217</td><td> 776</td><td>1797</td></tr>\n",
       "\t<tr><td>1503960366</td><td>4/14/2016</td><td>10460</td><td>6.74</td><td>6.74</td><td>0</td><td>2.44</td><td>0.40</td><td>3.91</td><td>0</td><td>30</td><td>11</td><td>181</td><td>1218</td><td>1776</td></tr>\n",
       "\t<tr><td>1503960366</td><td>4/15/2016</td><td> 9762</td><td>6.28</td><td>6.28</td><td>0</td><td>2.14</td><td>1.26</td><td>2.83</td><td>0</td><td>29</td><td>34</td><td>209</td><td> 726</td><td>1745</td></tr>\n",
       "\t<tr><td>1503960366</td><td>4/16/2016</td><td>12669</td><td>8.16</td><td>8.16</td><td>0</td><td>2.71</td><td>0.41</td><td>5.04</td><td>0</td><td>36</td><td>10</td><td>221</td><td> 773</td><td>1863</td></tr>\n",
       "\t<tr><td>1503960366</td><td>4/17/2016</td><td> 9705</td><td>6.48</td><td>6.48</td><td>0</td><td>3.19</td><td>0.78</td><td>2.51</td><td>0</td><td>38</td><td>20</td><td>164</td><td> 539</td><td>1728</td></tr>\n",
       "</tbody>\n",
       "</table>\n"
      ],
      "text/latex": [
       "A tibble: 6 × 15\n",
       "\\begin{tabular}{lllllllllllllll}\n",
       " Id & ActivityDate & TotalSteps & TotalDistance & TrackerDistance & LoggedActivitiesDistance & VeryActiveDistance & ModeratelyActiveDistance & LightActiveDistance & SedentaryActiveDistance & VeryActiveMinutes & FairlyActiveMinutes & LightlyActiveMinutes & SedentaryMinutes & Calories\\\\\n",
       " <dbl> & <chr> & <dbl> & <dbl> & <dbl> & <dbl> & <dbl> & <dbl> & <dbl> & <dbl> & <dbl> & <dbl> & <dbl> & <dbl> & <dbl>\\\\\n",
       "\\hline\n",
       "\t 1503960366 & 4/12/2016 & 13162 & 8.50 & 8.50 & 0 & 1.88 & 0.55 & 6.06 & 0 & 25 & 13 & 328 &  728 & 1985\\\\\n",
       "\t 1503960366 & 4/13/2016 & 10735 & 6.97 & 6.97 & 0 & 1.57 & 0.69 & 4.71 & 0 & 21 & 19 & 217 &  776 & 1797\\\\\n",
       "\t 1503960366 & 4/14/2016 & 10460 & 6.74 & 6.74 & 0 & 2.44 & 0.40 & 3.91 & 0 & 30 & 11 & 181 & 1218 & 1776\\\\\n",
       "\t 1503960366 & 4/15/2016 &  9762 & 6.28 & 6.28 & 0 & 2.14 & 1.26 & 2.83 & 0 & 29 & 34 & 209 &  726 & 1745\\\\\n",
       "\t 1503960366 & 4/16/2016 & 12669 & 8.16 & 8.16 & 0 & 2.71 & 0.41 & 5.04 & 0 & 36 & 10 & 221 &  773 & 1863\\\\\n",
       "\t 1503960366 & 4/17/2016 &  9705 & 6.48 & 6.48 & 0 & 3.19 & 0.78 & 2.51 & 0 & 38 & 20 & 164 &  539 & 1728\\\\\n",
       "\\end{tabular}\n"
      ],
      "text/markdown": [
       "\n",
       "A tibble: 6 × 15\n",
       "\n",
       "| Id &lt;dbl&gt; | ActivityDate &lt;chr&gt; | TotalSteps &lt;dbl&gt; | TotalDistance &lt;dbl&gt; | TrackerDistance &lt;dbl&gt; | LoggedActivitiesDistance &lt;dbl&gt; | VeryActiveDistance &lt;dbl&gt; | ModeratelyActiveDistance &lt;dbl&gt; | LightActiveDistance &lt;dbl&gt; | SedentaryActiveDistance &lt;dbl&gt; | VeryActiveMinutes &lt;dbl&gt; | FairlyActiveMinutes &lt;dbl&gt; | LightlyActiveMinutes &lt;dbl&gt; | SedentaryMinutes &lt;dbl&gt; | Calories &lt;dbl&gt; |\n",
       "|---|---|---|---|---|---|---|---|---|---|---|---|---|---|---|\n",
       "| 1503960366 | 4/12/2016 | 13162 | 8.50 | 8.50 | 0 | 1.88 | 0.55 | 6.06 | 0 | 25 | 13 | 328 |  728 | 1985 |\n",
       "| 1503960366 | 4/13/2016 | 10735 | 6.97 | 6.97 | 0 | 1.57 | 0.69 | 4.71 | 0 | 21 | 19 | 217 |  776 | 1797 |\n",
       "| 1503960366 | 4/14/2016 | 10460 | 6.74 | 6.74 | 0 | 2.44 | 0.40 | 3.91 | 0 | 30 | 11 | 181 | 1218 | 1776 |\n",
       "| 1503960366 | 4/15/2016 |  9762 | 6.28 | 6.28 | 0 | 2.14 | 1.26 | 2.83 | 0 | 29 | 34 | 209 |  726 | 1745 |\n",
       "| 1503960366 | 4/16/2016 | 12669 | 8.16 | 8.16 | 0 | 2.71 | 0.41 | 5.04 | 0 | 36 | 10 | 221 |  773 | 1863 |\n",
       "| 1503960366 | 4/17/2016 |  9705 | 6.48 | 6.48 | 0 | 3.19 | 0.78 | 2.51 | 0 | 38 | 20 | 164 |  539 | 1728 |\n",
       "\n"
      ],
      "text/plain": [
       "  Id         ActivityDate TotalSteps TotalDistance TrackerDistance\n",
       "1 1503960366 4/12/2016    13162      8.50          8.50           \n",
       "2 1503960366 4/13/2016    10735      6.97          6.97           \n",
       "3 1503960366 4/14/2016    10460      6.74          6.74           \n",
       "4 1503960366 4/15/2016     9762      6.28          6.28           \n",
       "5 1503960366 4/16/2016    12669      8.16          8.16           \n",
       "6 1503960366 4/17/2016     9705      6.48          6.48           \n",
       "  LoggedActivitiesDistance VeryActiveDistance ModeratelyActiveDistance\n",
       "1 0                        1.88               0.55                    \n",
       "2 0                        1.57               0.69                    \n",
       "3 0                        2.44               0.40                    \n",
       "4 0                        2.14               1.26                    \n",
       "5 0                        2.71               0.41                    \n",
       "6 0                        3.19               0.78                    \n",
       "  LightActiveDistance SedentaryActiveDistance VeryActiveMinutes\n",
       "1 6.06                0                       25               \n",
       "2 4.71                0                       21               \n",
       "3 3.91                0                       30               \n",
       "4 2.83                0                       29               \n",
       "5 5.04                0                       36               \n",
       "6 2.51                0                       38               \n",
       "  FairlyActiveMinutes LightlyActiveMinutes SedentaryMinutes Calories\n",
       "1 13                  328                   728             1985    \n",
       "2 19                  217                   776             1797    \n",
       "3 11                  181                  1218             1776    \n",
       "4 34                  209                   726             1745    \n",
       "5 10                  221                   773             1863    \n",
       "6 20                  164                   539             1728    "
      ]
     },
     "metadata": {},
     "output_type": "display_data"
    }
   ],
   "source": [
    "head(daily_activity)"
   ]
  },
  {
   "cell_type": "code",
   "execution_count": 11,
   "id": "42a466ef-afc8-429a-8a47-9b359e2808f4",
   "metadata": {},
   "outputs": [
    {
     "name": "stdout",
     "output_type": "stream",
     "text": [
      "Rows: 940\n",
      "Columns: 15\n",
      "$ Id                       \u001b[3m\u001b[90m<dbl>\u001b[39m\u001b[23m 1503960366, 1503960366, 1503960366, 150396036…\n",
      "$ ActivityDate             \u001b[3m\u001b[90m<chr>\u001b[39m\u001b[23m \"4/12/2016\", \"4/13/2016\", \"4/14/2016\", \"4/15/…\n",
      "$ TotalSteps               \u001b[3m\u001b[90m<dbl>\u001b[39m\u001b[23m 13162, 10735, 10460, 9762, 12669, 9705, 13019…\n",
      "$ TotalDistance            \u001b[3m\u001b[90m<dbl>\u001b[39m\u001b[23m 8.50, 6.97, 6.74, 6.28, 8.16, 6.48, 8.59, 9.8…\n",
      "$ TrackerDistance          \u001b[3m\u001b[90m<dbl>\u001b[39m\u001b[23m 8.50, 6.97, 6.74, 6.28, 8.16, 6.48, 8.59, 9.8…\n",
      "$ LoggedActivitiesDistance \u001b[3m\u001b[90m<dbl>\u001b[39m\u001b[23m 0, 0, 0, 0, 0, 0, 0, 0, 0, 0, 0, 0, 0, 0, 0, …\n",
      "$ VeryActiveDistance       \u001b[3m\u001b[90m<dbl>\u001b[39m\u001b[23m 1.88, 1.57, 2.44, 2.14, 2.71, 3.19, 3.25, 3.5…\n",
      "$ ModeratelyActiveDistance \u001b[3m\u001b[90m<dbl>\u001b[39m\u001b[23m 0.55, 0.69, 0.40, 1.26, 0.41, 0.78, 0.64, 1.3…\n",
      "$ LightActiveDistance      \u001b[3m\u001b[90m<dbl>\u001b[39m\u001b[23m 6.06, 4.71, 3.91, 2.83, 5.04, 2.51, 4.71, 5.0…\n",
      "$ SedentaryActiveDistance  \u001b[3m\u001b[90m<dbl>\u001b[39m\u001b[23m 0, 0, 0, 0, 0, 0, 0, 0, 0, 0, 0, 0, 0, 0, 0, …\n",
      "$ VeryActiveMinutes        \u001b[3m\u001b[90m<dbl>\u001b[39m\u001b[23m 25, 21, 30, 29, 36, 38, 42, 50, 28, 19, 66, 4…\n",
      "$ FairlyActiveMinutes      \u001b[3m\u001b[90m<dbl>\u001b[39m\u001b[23m 13, 19, 11, 34, 10, 20, 16, 31, 12, 8, 27, 21…\n",
      "$ LightlyActiveMinutes     \u001b[3m\u001b[90m<dbl>\u001b[39m\u001b[23m 328, 217, 181, 209, 221, 164, 233, 264, 205, …\n",
      "$ SedentaryMinutes         \u001b[3m\u001b[90m<dbl>\u001b[39m\u001b[23m 728, 776, 1218, 726, 773, 539, 1149, 775, 818…\n",
      "$ Calories                 \u001b[3m\u001b[90m<dbl>\u001b[39m\u001b[23m 1985, 1797, 1776, 1745, 1863, 1728, 1921, 203…\n"
     ]
    }
   ],
   "source": [
    "glimpse(daily_activity)"
   ]
  },
  {
   "cell_type": "code",
   "execution_count": 12,
   "id": "bf54fe70-5b7c-4d1c-99b9-575099372d82",
   "metadata": {},
   "outputs": [
    {
     "data": {
      "text/html": [
       "<table class=\"dataframe\">\n",
       "<caption>A tibble: 6 × 3</caption>\n",
       "<thead>\n",
       "\t<tr><th scope=col>Id</th><th scope=col>ActivityDay</th><th scope=col>Calories</th></tr>\n",
       "\t<tr><th scope=col>&lt;dbl&gt;</th><th scope=col>&lt;chr&gt;</th><th scope=col>&lt;dbl&gt;</th></tr>\n",
       "</thead>\n",
       "<tbody>\n",
       "\t<tr><td>1503960366</td><td>4/12/2016</td><td>1985</td></tr>\n",
       "\t<tr><td>1503960366</td><td>4/13/2016</td><td>1797</td></tr>\n",
       "\t<tr><td>1503960366</td><td>4/14/2016</td><td>1776</td></tr>\n",
       "\t<tr><td>1503960366</td><td>4/15/2016</td><td>1745</td></tr>\n",
       "\t<tr><td>1503960366</td><td>4/16/2016</td><td>1863</td></tr>\n",
       "\t<tr><td>1503960366</td><td>4/17/2016</td><td>1728</td></tr>\n",
       "</tbody>\n",
       "</table>\n"
      ],
      "text/latex": [
       "A tibble: 6 × 3\n",
       "\\begin{tabular}{lll}\n",
       " Id & ActivityDay & Calories\\\\\n",
       " <dbl> & <chr> & <dbl>\\\\\n",
       "\\hline\n",
       "\t 1503960366 & 4/12/2016 & 1985\\\\\n",
       "\t 1503960366 & 4/13/2016 & 1797\\\\\n",
       "\t 1503960366 & 4/14/2016 & 1776\\\\\n",
       "\t 1503960366 & 4/15/2016 & 1745\\\\\n",
       "\t 1503960366 & 4/16/2016 & 1863\\\\\n",
       "\t 1503960366 & 4/17/2016 & 1728\\\\\n",
       "\\end{tabular}\n"
      ],
      "text/markdown": [
       "\n",
       "A tibble: 6 × 3\n",
       "\n",
       "| Id &lt;dbl&gt; | ActivityDay &lt;chr&gt; | Calories &lt;dbl&gt; |\n",
       "|---|---|---|\n",
       "| 1503960366 | 4/12/2016 | 1985 |\n",
       "| 1503960366 | 4/13/2016 | 1797 |\n",
       "| 1503960366 | 4/14/2016 | 1776 |\n",
       "| 1503960366 | 4/15/2016 | 1745 |\n",
       "| 1503960366 | 4/16/2016 | 1863 |\n",
       "| 1503960366 | 4/17/2016 | 1728 |\n",
       "\n"
      ],
      "text/plain": [
       "  Id         ActivityDay Calories\n",
       "1 1503960366 4/12/2016   1985    \n",
       "2 1503960366 4/13/2016   1797    \n",
       "3 1503960366 4/14/2016   1776    \n",
       "4 1503960366 4/15/2016   1745    \n",
       "5 1503960366 4/16/2016   1863    \n",
       "6 1503960366 4/17/2016   1728    "
      ]
     },
     "metadata": {},
     "output_type": "display_data"
    }
   ],
   "source": [
    "head(daily_calories)"
   ]
  },
  {
   "cell_type": "code",
   "execution_count": 13,
   "id": "4e793ac1-1073-4929-9747-ac5a25140790",
   "metadata": {},
   "outputs": [
    {
     "data": {
      "text/html": [
       "<table class=\"dataframe\">\n",
       "<caption>A tibble: 6 × 10</caption>\n",
       "<thead>\n",
       "\t<tr><th scope=col>Id</th><th scope=col>ActivityDay</th><th scope=col>SedentaryMinutes</th><th scope=col>LightlyActiveMinutes</th><th scope=col>FairlyActiveMinutes</th><th scope=col>VeryActiveMinutes</th><th scope=col>SedentaryActiveDistance</th><th scope=col>LightActiveDistance</th><th scope=col>ModeratelyActiveDistance</th><th scope=col>VeryActiveDistance</th></tr>\n",
       "\t<tr><th scope=col>&lt;dbl&gt;</th><th scope=col>&lt;chr&gt;</th><th scope=col>&lt;dbl&gt;</th><th scope=col>&lt;dbl&gt;</th><th scope=col>&lt;dbl&gt;</th><th scope=col>&lt;dbl&gt;</th><th scope=col>&lt;dbl&gt;</th><th scope=col>&lt;dbl&gt;</th><th scope=col>&lt;dbl&gt;</th><th scope=col>&lt;dbl&gt;</th></tr>\n",
       "</thead>\n",
       "<tbody>\n",
       "\t<tr><td>1503960366</td><td>4/12/2016</td><td> 728</td><td>328</td><td>13</td><td>25</td><td>0</td><td>6.06</td><td>0.55</td><td>1.88</td></tr>\n",
       "\t<tr><td>1503960366</td><td>4/13/2016</td><td> 776</td><td>217</td><td>19</td><td>21</td><td>0</td><td>4.71</td><td>0.69</td><td>1.57</td></tr>\n",
       "\t<tr><td>1503960366</td><td>4/14/2016</td><td>1218</td><td>181</td><td>11</td><td>30</td><td>0</td><td>3.91</td><td>0.40</td><td>2.44</td></tr>\n",
       "\t<tr><td>1503960366</td><td>4/15/2016</td><td> 726</td><td>209</td><td>34</td><td>29</td><td>0</td><td>2.83</td><td>1.26</td><td>2.14</td></tr>\n",
       "\t<tr><td>1503960366</td><td>4/16/2016</td><td> 773</td><td>221</td><td>10</td><td>36</td><td>0</td><td>5.04</td><td>0.41</td><td>2.71</td></tr>\n",
       "\t<tr><td>1503960366</td><td>4/17/2016</td><td> 539</td><td>164</td><td>20</td><td>38</td><td>0</td><td>2.51</td><td>0.78</td><td>3.19</td></tr>\n",
       "</tbody>\n",
       "</table>\n"
      ],
      "text/latex": [
       "A tibble: 6 × 10\n",
       "\\begin{tabular}{llllllllll}\n",
       " Id & ActivityDay & SedentaryMinutes & LightlyActiveMinutes & FairlyActiveMinutes & VeryActiveMinutes & SedentaryActiveDistance & LightActiveDistance & ModeratelyActiveDistance & VeryActiveDistance\\\\\n",
       " <dbl> & <chr> & <dbl> & <dbl> & <dbl> & <dbl> & <dbl> & <dbl> & <dbl> & <dbl>\\\\\n",
       "\\hline\n",
       "\t 1503960366 & 4/12/2016 &  728 & 328 & 13 & 25 & 0 & 6.06 & 0.55 & 1.88\\\\\n",
       "\t 1503960366 & 4/13/2016 &  776 & 217 & 19 & 21 & 0 & 4.71 & 0.69 & 1.57\\\\\n",
       "\t 1503960366 & 4/14/2016 & 1218 & 181 & 11 & 30 & 0 & 3.91 & 0.40 & 2.44\\\\\n",
       "\t 1503960366 & 4/15/2016 &  726 & 209 & 34 & 29 & 0 & 2.83 & 1.26 & 2.14\\\\\n",
       "\t 1503960366 & 4/16/2016 &  773 & 221 & 10 & 36 & 0 & 5.04 & 0.41 & 2.71\\\\\n",
       "\t 1503960366 & 4/17/2016 &  539 & 164 & 20 & 38 & 0 & 2.51 & 0.78 & 3.19\\\\\n",
       "\\end{tabular}\n"
      ],
      "text/markdown": [
       "\n",
       "A tibble: 6 × 10\n",
       "\n",
       "| Id &lt;dbl&gt; | ActivityDay &lt;chr&gt; | SedentaryMinutes &lt;dbl&gt; | LightlyActiveMinutes &lt;dbl&gt; | FairlyActiveMinutes &lt;dbl&gt; | VeryActiveMinutes &lt;dbl&gt; | SedentaryActiveDistance &lt;dbl&gt; | LightActiveDistance &lt;dbl&gt; | ModeratelyActiveDistance &lt;dbl&gt; | VeryActiveDistance &lt;dbl&gt; |\n",
       "|---|---|---|---|---|---|---|---|---|---|\n",
       "| 1503960366 | 4/12/2016 |  728 | 328 | 13 | 25 | 0 | 6.06 | 0.55 | 1.88 |\n",
       "| 1503960366 | 4/13/2016 |  776 | 217 | 19 | 21 | 0 | 4.71 | 0.69 | 1.57 |\n",
       "| 1503960366 | 4/14/2016 | 1218 | 181 | 11 | 30 | 0 | 3.91 | 0.40 | 2.44 |\n",
       "| 1503960366 | 4/15/2016 |  726 | 209 | 34 | 29 | 0 | 2.83 | 1.26 | 2.14 |\n",
       "| 1503960366 | 4/16/2016 |  773 | 221 | 10 | 36 | 0 | 5.04 | 0.41 | 2.71 |\n",
       "| 1503960366 | 4/17/2016 |  539 | 164 | 20 | 38 | 0 | 2.51 | 0.78 | 3.19 |\n",
       "\n"
      ],
      "text/plain": [
       "  Id         ActivityDay SedentaryMinutes LightlyActiveMinutes\n",
       "1 1503960366 4/12/2016    728             328                 \n",
       "2 1503960366 4/13/2016    776             217                 \n",
       "3 1503960366 4/14/2016   1218             181                 \n",
       "4 1503960366 4/15/2016    726             209                 \n",
       "5 1503960366 4/16/2016    773             221                 \n",
       "6 1503960366 4/17/2016    539             164                 \n",
       "  FairlyActiveMinutes VeryActiveMinutes SedentaryActiveDistance\n",
       "1 13                  25                0                      \n",
       "2 19                  21                0                      \n",
       "3 11                  30                0                      \n",
       "4 34                  29                0                      \n",
       "5 10                  36                0                      \n",
       "6 20                  38                0                      \n",
       "  LightActiveDistance ModeratelyActiveDistance VeryActiveDistance\n",
       "1 6.06                0.55                     1.88              \n",
       "2 4.71                0.69                     1.57              \n",
       "3 3.91                0.40                     2.44              \n",
       "4 2.83                1.26                     2.14              \n",
       "5 5.04                0.41                     2.71              \n",
       "6 2.51                0.78                     3.19              "
      ]
     },
     "metadata": {},
     "output_type": "display_data"
    }
   ],
   "source": [
    "head(daily_intensities)"
   ]
  },
  {
   "cell_type": "code",
   "execution_count": 26,
   "id": "713b4da3-79eb-4cf0-bc9e-ed83e2f664d0",
   "metadata": {},
   "outputs": [
    {
     "data": {
      "text/html": [
       "<table class=\"dataframe\">\n",
       "<caption>A tibble: 6 × 3</caption>\n",
       "<thead>\n",
       "\t<tr><th scope=col>Id</th><th scope=col>ActivityDay</th><th scope=col>StepTotal</th></tr>\n",
       "\t<tr><th scope=col>&lt;dbl&gt;</th><th scope=col>&lt;chr&gt;</th><th scope=col>&lt;dbl&gt;</th></tr>\n",
       "</thead>\n",
       "<tbody>\n",
       "\t<tr><td>1503960366</td><td>4/12/2016</td><td>13162</td></tr>\n",
       "\t<tr><td>1503960366</td><td>4/13/2016</td><td>10735</td></tr>\n",
       "\t<tr><td>1503960366</td><td>4/14/2016</td><td>10460</td></tr>\n",
       "\t<tr><td>1503960366</td><td>4/15/2016</td><td> 9762</td></tr>\n",
       "\t<tr><td>1503960366</td><td>4/16/2016</td><td>12669</td></tr>\n",
       "\t<tr><td>1503960366</td><td>4/17/2016</td><td> 9705</td></tr>\n",
       "</tbody>\n",
       "</table>\n"
      ],
      "text/latex": [
       "A tibble: 6 × 3\n",
       "\\begin{tabular}{lll}\n",
       " Id & ActivityDay & StepTotal\\\\\n",
       " <dbl> & <chr> & <dbl>\\\\\n",
       "\\hline\n",
       "\t 1503960366 & 4/12/2016 & 13162\\\\\n",
       "\t 1503960366 & 4/13/2016 & 10735\\\\\n",
       "\t 1503960366 & 4/14/2016 & 10460\\\\\n",
       "\t 1503960366 & 4/15/2016 &  9762\\\\\n",
       "\t 1503960366 & 4/16/2016 & 12669\\\\\n",
       "\t 1503960366 & 4/17/2016 &  9705\\\\\n",
       "\\end{tabular}\n"
      ],
      "text/markdown": [
       "\n",
       "A tibble: 6 × 3\n",
       "\n",
       "| Id &lt;dbl&gt; | ActivityDay &lt;chr&gt; | StepTotal &lt;dbl&gt; |\n",
       "|---|---|---|\n",
       "| 1503960366 | 4/12/2016 | 13162 |\n",
       "| 1503960366 | 4/13/2016 | 10735 |\n",
       "| 1503960366 | 4/14/2016 | 10460 |\n",
       "| 1503960366 | 4/15/2016 |  9762 |\n",
       "| 1503960366 | 4/16/2016 | 12669 |\n",
       "| 1503960366 | 4/17/2016 |  9705 |\n",
       "\n"
      ],
      "text/plain": [
       "  Id         ActivityDay StepTotal\n",
       "1 1503960366 4/12/2016   13162    \n",
       "2 1503960366 4/13/2016   10735    \n",
       "3 1503960366 4/14/2016   10460    \n",
       "4 1503960366 4/15/2016    9762    \n",
       "5 1503960366 4/16/2016   12669    \n",
       "6 1503960366 4/17/2016    9705    "
      ]
     },
     "metadata": {},
     "output_type": "display_data"
    }
   ],
   "source": [
    "head(daily_steps)"
   ]
  },
  {
   "cell_type": "code",
   "execution_count": 27,
   "id": "c7d3f690-9fe5-4807-8179-46280f280515",
   "metadata": {},
   "outputs": [
    {
     "data": {
      "text/html": [
       "<table class=\"dataframe\">\n",
       "<caption>A tibble: 6 × 3</caption>\n",
       "<thead>\n",
       "\t<tr><th scope=col>Id</th><th scope=col>Time</th><th scope=col>Value</th></tr>\n",
       "\t<tr><th scope=col>&lt;dbl&gt;</th><th scope=col>&lt;chr&gt;</th><th scope=col>&lt;dbl&gt;</th></tr>\n",
       "</thead>\n",
       "<tbody>\n",
       "\t<tr><td>2022484408</td><td>4/12/2016 7:21:00 AM</td><td> 97</td></tr>\n",
       "\t<tr><td>2022484408</td><td>4/12/2016 7:21:05 AM</td><td>102</td></tr>\n",
       "\t<tr><td>2022484408</td><td>4/12/2016 7:21:10 AM</td><td>105</td></tr>\n",
       "\t<tr><td>2022484408</td><td>4/12/2016 7:21:20 AM</td><td>103</td></tr>\n",
       "\t<tr><td>2022484408</td><td>4/12/2016 7:21:25 AM</td><td>101</td></tr>\n",
       "\t<tr><td>2022484408</td><td>4/12/2016 7:22:05 AM</td><td> 95</td></tr>\n",
       "</tbody>\n",
       "</table>\n"
      ],
      "text/latex": [
       "A tibble: 6 × 3\n",
       "\\begin{tabular}{lll}\n",
       " Id & Time & Value\\\\\n",
       " <dbl> & <chr> & <dbl>\\\\\n",
       "\\hline\n",
       "\t 2022484408 & 4/12/2016 7:21:00 AM &  97\\\\\n",
       "\t 2022484408 & 4/12/2016 7:21:05 AM & 102\\\\\n",
       "\t 2022484408 & 4/12/2016 7:21:10 AM & 105\\\\\n",
       "\t 2022484408 & 4/12/2016 7:21:20 AM & 103\\\\\n",
       "\t 2022484408 & 4/12/2016 7:21:25 AM & 101\\\\\n",
       "\t 2022484408 & 4/12/2016 7:22:05 AM &  95\\\\\n",
       "\\end{tabular}\n"
      ],
      "text/markdown": [
       "\n",
       "A tibble: 6 × 3\n",
       "\n",
       "| Id &lt;dbl&gt; | Time &lt;chr&gt; | Value &lt;dbl&gt; |\n",
       "|---|---|---|\n",
       "| 2022484408 | 4/12/2016 7:21:00 AM |  97 |\n",
       "| 2022484408 | 4/12/2016 7:21:05 AM | 102 |\n",
       "| 2022484408 | 4/12/2016 7:21:10 AM | 105 |\n",
       "| 2022484408 | 4/12/2016 7:21:20 AM | 103 |\n",
       "| 2022484408 | 4/12/2016 7:21:25 AM | 101 |\n",
       "| 2022484408 | 4/12/2016 7:22:05 AM |  95 |\n",
       "\n"
      ],
      "text/plain": [
       "  Id         Time                 Value\n",
       "1 2022484408 4/12/2016 7:21:00 AM  97  \n",
       "2 2022484408 4/12/2016 7:21:05 AM 102  \n",
       "3 2022484408 4/12/2016 7:21:10 AM 105  \n",
       "4 2022484408 4/12/2016 7:21:20 AM 103  \n",
       "5 2022484408 4/12/2016 7:21:25 AM 101  \n",
       "6 2022484408 4/12/2016 7:22:05 AM  95  "
      ]
     },
     "metadata": {},
     "output_type": "display_data"
    }
   ],
   "source": [
    "head(heart_rate)"
   ]
  },
  {
   "cell_type": "code",
   "execution_count": 28,
   "id": "8943e9db-1425-489a-9d06-720e525224b4",
   "metadata": {},
   "outputs": [
    {
     "data": {
      "text/html": [
       "<table class=\"dataframe\">\n",
       "<caption>A tibble: 6 × 5</caption>\n",
       "<thead>\n",
       "\t<tr><th scope=col>Id</th><th scope=col>SleepDay</th><th scope=col>TotalSleepRecords</th><th scope=col>TotalMinutesAsleep</th><th scope=col>TotalTimeInBed</th></tr>\n",
       "\t<tr><th scope=col>&lt;dbl&gt;</th><th scope=col>&lt;chr&gt;</th><th scope=col>&lt;dbl&gt;</th><th scope=col>&lt;dbl&gt;</th><th scope=col>&lt;dbl&gt;</th></tr>\n",
       "</thead>\n",
       "<tbody>\n",
       "\t<tr><td>1503960366</td><td>4/12/2016 12:00:00 AM</td><td>1</td><td>327</td><td>346</td></tr>\n",
       "\t<tr><td>1503960366</td><td>4/13/2016 12:00:00 AM</td><td>2</td><td>384</td><td>407</td></tr>\n",
       "\t<tr><td>1503960366</td><td>4/15/2016 12:00:00 AM</td><td>1</td><td>412</td><td>442</td></tr>\n",
       "\t<tr><td>1503960366</td><td>4/16/2016 12:00:00 AM</td><td>2</td><td>340</td><td>367</td></tr>\n",
       "\t<tr><td>1503960366</td><td>4/17/2016 12:00:00 AM</td><td>1</td><td>700</td><td>712</td></tr>\n",
       "\t<tr><td>1503960366</td><td>4/19/2016 12:00:00 AM</td><td>1</td><td>304</td><td>320</td></tr>\n",
       "</tbody>\n",
       "</table>\n"
      ],
      "text/latex": [
       "A tibble: 6 × 5\n",
       "\\begin{tabular}{lllll}\n",
       " Id & SleepDay & TotalSleepRecords & TotalMinutesAsleep & TotalTimeInBed\\\\\n",
       " <dbl> & <chr> & <dbl> & <dbl> & <dbl>\\\\\n",
       "\\hline\n",
       "\t 1503960366 & 4/12/2016 12:00:00 AM & 1 & 327 & 346\\\\\n",
       "\t 1503960366 & 4/13/2016 12:00:00 AM & 2 & 384 & 407\\\\\n",
       "\t 1503960366 & 4/15/2016 12:00:00 AM & 1 & 412 & 442\\\\\n",
       "\t 1503960366 & 4/16/2016 12:00:00 AM & 2 & 340 & 367\\\\\n",
       "\t 1503960366 & 4/17/2016 12:00:00 AM & 1 & 700 & 712\\\\\n",
       "\t 1503960366 & 4/19/2016 12:00:00 AM & 1 & 304 & 320\\\\\n",
       "\\end{tabular}\n"
      ],
      "text/markdown": [
       "\n",
       "A tibble: 6 × 5\n",
       "\n",
       "| Id &lt;dbl&gt; | SleepDay &lt;chr&gt; | TotalSleepRecords &lt;dbl&gt; | TotalMinutesAsleep &lt;dbl&gt; | TotalTimeInBed &lt;dbl&gt; |\n",
       "|---|---|---|---|---|\n",
       "| 1503960366 | 4/12/2016 12:00:00 AM | 1 | 327 | 346 |\n",
       "| 1503960366 | 4/13/2016 12:00:00 AM | 2 | 384 | 407 |\n",
       "| 1503960366 | 4/15/2016 12:00:00 AM | 1 | 412 | 442 |\n",
       "| 1503960366 | 4/16/2016 12:00:00 AM | 2 | 340 | 367 |\n",
       "| 1503960366 | 4/17/2016 12:00:00 AM | 1 | 700 | 712 |\n",
       "| 1503960366 | 4/19/2016 12:00:00 AM | 1 | 304 | 320 |\n",
       "\n"
      ],
      "text/plain": [
       "  Id         SleepDay              TotalSleepRecords TotalMinutesAsleep\n",
       "1 1503960366 4/12/2016 12:00:00 AM 1                 327               \n",
       "2 1503960366 4/13/2016 12:00:00 AM 2                 384               \n",
       "3 1503960366 4/15/2016 12:00:00 AM 1                 412               \n",
       "4 1503960366 4/16/2016 12:00:00 AM 2                 340               \n",
       "5 1503960366 4/17/2016 12:00:00 AM 1                 700               \n",
       "6 1503960366 4/19/2016 12:00:00 AM 1                 304               \n",
       "  TotalTimeInBed\n",
       "1 346           \n",
       "2 407           \n",
       "3 442           \n",
       "4 367           \n",
       "5 712           \n",
       "6 320           "
      ]
     },
     "metadata": {},
     "output_type": "display_data"
    }
   ],
   "source": [
    "head(sleep_day)"
   ]
  },
  {
   "cell_type": "code",
   "execution_count": 29,
   "id": "f1e8d0d5-13a0-41a5-97ae-b6730549e2f3",
   "metadata": {},
   "outputs": [
    {
     "data": {
      "text/html": [
       "<table class=\"dataframe\">\n",
       "<caption>A tibble: 6 × 8</caption>\n",
       "<thead>\n",
       "\t<tr><th scope=col>Id</th><th scope=col>Date</th><th scope=col>WeightKg</th><th scope=col>WeightPounds</th><th scope=col>Fat</th><th scope=col>BMI</th><th scope=col>IsManualReport</th><th scope=col>LogId</th></tr>\n",
       "\t<tr><th scope=col>&lt;dbl&gt;</th><th scope=col>&lt;chr&gt;</th><th scope=col>&lt;dbl&gt;</th><th scope=col>&lt;dbl&gt;</th><th scope=col>&lt;dbl&gt;</th><th scope=col>&lt;dbl&gt;</th><th scope=col>&lt;lgl&gt;</th><th scope=col>&lt;dbl&gt;</th></tr>\n",
       "</thead>\n",
       "<tbody>\n",
       "\t<tr><td>1503960366</td><td>5/2/2016 11:59:59 PM </td><td> 52.6</td><td>115.9631</td><td>22</td><td>22.65</td><td> TRUE</td><td>1.462234e+12</td></tr>\n",
       "\t<tr><td>1503960366</td><td>5/3/2016 11:59:59 PM </td><td> 52.6</td><td>115.9631</td><td>NA</td><td>22.65</td><td> TRUE</td><td>1.462320e+12</td></tr>\n",
       "\t<tr><td>1927972279</td><td>4/13/2016 1:08:52 AM </td><td>133.5</td><td>294.3171</td><td>NA</td><td>47.54</td><td>FALSE</td><td>1.460510e+12</td></tr>\n",
       "\t<tr><td>2873212765</td><td>4/21/2016 11:59:59 PM</td><td> 56.7</td><td>125.0021</td><td>NA</td><td>21.45</td><td> TRUE</td><td>1.461283e+12</td></tr>\n",
       "\t<tr><td>2873212765</td><td>5/12/2016 11:59:59 PM</td><td> 57.3</td><td>126.3249</td><td>NA</td><td>21.69</td><td> TRUE</td><td>1.463098e+12</td></tr>\n",
       "\t<tr><td>4319703577</td><td>4/17/2016 11:59:59 PM</td><td> 72.4</td><td>159.6147</td><td>25</td><td>27.45</td><td> TRUE</td><td>1.460938e+12</td></tr>\n",
       "</tbody>\n",
       "</table>\n"
      ],
      "text/latex": [
       "A tibble: 6 × 8\n",
       "\\begin{tabular}{llllllll}\n",
       " Id & Date & WeightKg & WeightPounds & Fat & BMI & IsManualReport & LogId\\\\\n",
       " <dbl> & <chr> & <dbl> & <dbl> & <dbl> & <dbl> & <lgl> & <dbl>\\\\\n",
       "\\hline\n",
       "\t 1503960366 & 5/2/2016 11:59:59 PM  &  52.6 & 115.9631 & 22 & 22.65 &  TRUE & 1.462234e+12\\\\\n",
       "\t 1503960366 & 5/3/2016 11:59:59 PM  &  52.6 & 115.9631 & NA & 22.65 &  TRUE & 1.462320e+12\\\\\n",
       "\t 1927972279 & 4/13/2016 1:08:52 AM  & 133.5 & 294.3171 & NA & 47.54 & FALSE & 1.460510e+12\\\\\n",
       "\t 2873212765 & 4/21/2016 11:59:59 PM &  56.7 & 125.0021 & NA & 21.45 &  TRUE & 1.461283e+12\\\\\n",
       "\t 2873212765 & 5/12/2016 11:59:59 PM &  57.3 & 126.3249 & NA & 21.69 &  TRUE & 1.463098e+12\\\\\n",
       "\t 4319703577 & 4/17/2016 11:59:59 PM &  72.4 & 159.6147 & 25 & 27.45 &  TRUE & 1.460938e+12\\\\\n",
       "\\end{tabular}\n"
      ],
      "text/markdown": [
       "\n",
       "A tibble: 6 × 8\n",
       "\n",
       "| Id &lt;dbl&gt; | Date &lt;chr&gt; | WeightKg &lt;dbl&gt; | WeightPounds &lt;dbl&gt; | Fat &lt;dbl&gt; | BMI &lt;dbl&gt; | IsManualReport &lt;lgl&gt; | LogId &lt;dbl&gt; |\n",
       "|---|---|---|---|---|---|---|---|\n",
       "| 1503960366 | 5/2/2016 11:59:59 PM  |  52.6 | 115.9631 | 22 | 22.65 |  TRUE | 1.462234e+12 |\n",
       "| 1503960366 | 5/3/2016 11:59:59 PM  |  52.6 | 115.9631 | NA | 22.65 |  TRUE | 1.462320e+12 |\n",
       "| 1927972279 | 4/13/2016 1:08:52 AM  | 133.5 | 294.3171 | NA | 47.54 | FALSE | 1.460510e+12 |\n",
       "| 2873212765 | 4/21/2016 11:59:59 PM |  56.7 | 125.0021 | NA | 21.45 |  TRUE | 1.461283e+12 |\n",
       "| 2873212765 | 5/12/2016 11:59:59 PM |  57.3 | 126.3249 | NA | 21.69 |  TRUE | 1.463098e+12 |\n",
       "| 4319703577 | 4/17/2016 11:59:59 PM |  72.4 | 159.6147 | 25 | 27.45 |  TRUE | 1.460938e+12 |\n",
       "\n"
      ],
      "text/plain": [
       "  Id         Date                  WeightKg WeightPounds Fat BMI  \n",
       "1 1503960366 5/2/2016 11:59:59 PM   52.6    115.9631     22  22.65\n",
       "2 1503960366 5/3/2016 11:59:59 PM   52.6    115.9631     NA  22.65\n",
       "3 1927972279 4/13/2016 1:08:52 AM  133.5    294.3171     NA  47.54\n",
       "4 2873212765 4/21/2016 11:59:59 PM  56.7    125.0021     NA  21.45\n",
       "5 2873212765 5/12/2016 11:59:59 PM  57.3    126.3249     NA  21.69\n",
       "6 4319703577 4/17/2016 11:59:59 PM  72.4    159.6147     25  27.45\n",
       "  IsManualReport LogId       \n",
       "1  TRUE          1.462234e+12\n",
       "2  TRUE          1.462320e+12\n",
       "3 FALSE          1.460510e+12\n",
       "4  TRUE          1.461283e+12\n",
       "5  TRUE          1.463098e+12\n",
       "6  TRUE          1.460938e+12"
      ]
     },
     "metadata": {},
     "output_type": "display_data"
    }
   ],
   "source": [
    "head(weight_log)"
   ]
  },
  {
   "cell_type": "code",
   "execution_count": 31,
   "id": "b259b74b-2100-4287-9271-d513243b4e6c",
   "metadata": {},
   "outputs": [
    {
     "data": {
      "text/html": [
       "<table class=\"dataframe\">\n",
       "<caption>A tibble: 6 × 62</caption>\n",
       "<thead>\n",
       "\t<tr><th scope=col>Id</th><th scope=col>ActivityHour</th><th scope=col>Steps00</th><th scope=col>Steps01</th><th scope=col>Steps02</th><th scope=col>Steps03</th><th scope=col>Steps04</th><th scope=col>Steps05</th><th scope=col>Steps06</th><th scope=col>Steps07</th><th scope=col>⋯</th><th scope=col>Steps50</th><th scope=col>Steps51</th><th scope=col>Steps52</th><th scope=col>Steps53</th><th scope=col>Steps54</th><th scope=col>Steps55</th><th scope=col>Steps56</th><th scope=col>Steps57</th><th scope=col>Steps58</th><th scope=col>Steps59</th></tr>\n",
       "\t<tr><th scope=col>&lt;dbl&gt;</th><th scope=col>&lt;chr&gt;</th><th scope=col>&lt;dbl&gt;</th><th scope=col>&lt;dbl&gt;</th><th scope=col>&lt;dbl&gt;</th><th scope=col>&lt;dbl&gt;</th><th scope=col>&lt;dbl&gt;</th><th scope=col>&lt;dbl&gt;</th><th scope=col>&lt;dbl&gt;</th><th scope=col>&lt;dbl&gt;</th><th scope=col>⋯</th><th scope=col>&lt;dbl&gt;</th><th scope=col>&lt;dbl&gt;</th><th scope=col>&lt;dbl&gt;</th><th scope=col>&lt;dbl&gt;</th><th scope=col>&lt;dbl&gt;</th><th scope=col>&lt;dbl&gt;</th><th scope=col>&lt;dbl&gt;</th><th scope=col>&lt;dbl&gt;</th><th scope=col>&lt;dbl&gt;</th><th scope=col>&lt;dbl&gt;</th></tr>\n",
       "</thead>\n",
       "<tbody>\n",
       "\t<tr><td>1503960366</td><td>4/13/2016 12:00:00 AM</td><td>4</td><td>16</td><td>0</td><td>0</td><td>0</td><td>9</td><td>0</td><td>17</td><td>⋯</td><td>0</td><td>9</td><td>8</td><td>0</td><td>20</td><td>1</td><td>0</td><td>0</td><td>0</td><td>0</td></tr>\n",
       "\t<tr><td>1503960366</td><td>4/13/2016 1:00:00 AM </td><td>0</td><td> 0</td><td>0</td><td>0</td><td>0</td><td>0</td><td>0</td><td> 0</td><td>⋯</td><td>0</td><td>0</td><td>0</td><td>0</td><td> 0</td><td>0</td><td>0</td><td>0</td><td>0</td><td>0</td></tr>\n",
       "\t<tr><td>1503960366</td><td>4/13/2016 2:00:00 AM </td><td>0</td><td> 0</td><td>0</td><td>0</td><td>0</td><td>0</td><td>0</td><td> 0</td><td>⋯</td><td>0</td><td>0</td><td>0</td><td>0</td><td> 0</td><td>0</td><td>0</td><td>0</td><td>0</td><td>0</td></tr>\n",
       "\t<tr><td>1503960366</td><td>4/13/2016 3:00:00 AM </td><td>0</td><td> 0</td><td>0</td><td>0</td><td>0</td><td>0</td><td>0</td><td> 0</td><td>⋯</td><td>0</td><td>0</td><td>0</td><td>0</td><td> 0</td><td>0</td><td>0</td><td>0</td><td>0</td><td>0</td></tr>\n",
       "\t<tr><td>1503960366</td><td>4/13/2016 4:00:00 AM </td><td>0</td><td> 0</td><td>0</td><td>0</td><td>0</td><td>0</td><td>0</td><td> 0</td><td>⋯</td><td>0</td><td>0</td><td>0</td><td>0</td><td> 0</td><td>0</td><td>0</td><td>0</td><td>0</td><td>0</td></tr>\n",
       "\t<tr><td>1503960366</td><td>4/13/2016 5:00:00 AM </td><td>0</td><td> 0</td><td>0</td><td>0</td><td>0</td><td>0</td><td>0</td><td> 0</td><td>⋯</td><td>0</td><td>0</td><td>0</td><td>0</td><td> 0</td><td>0</td><td>0</td><td>0</td><td>0</td><td>0</td></tr>\n",
       "</tbody>\n",
       "</table>\n"
      ],
      "text/latex": [
       "A tibble: 6 × 62\n",
       "\\begin{tabular}{lllllllllllllllllllll}\n",
       " Id & ActivityHour & Steps00 & Steps01 & Steps02 & Steps03 & Steps04 & Steps05 & Steps06 & Steps07 & ⋯ & Steps50 & Steps51 & Steps52 & Steps53 & Steps54 & Steps55 & Steps56 & Steps57 & Steps58 & Steps59\\\\\n",
       " <dbl> & <chr> & <dbl> & <dbl> & <dbl> & <dbl> & <dbl> & <dbl> & <dbl> & <dbl> & ⋯ & <dbl> & <dbl> & <dbl> & <dbl> & <dbl> & <dbl> & <dbl> & <dbl> & <dbl> & <dbl>\\\\\n",
       "\\hline\n",
       "\t 1503960366 & 4/13/2016 12:00:00 AM & 4 & 16 & 0 & 0 & 0 & 9 & 0 & 17 & ⋯ & 0 & 9 & 8 & 0 & 20 & 1 & 0 & 0 & 0 & 0\\\\\n",
       "\t 1503960366 & 4/13/2016 1:00:00 AM  & 0 &  0 & 0 & 0 & 0 & 0 & 0 &  0 & ⋯ & 0 & 0 & 0 & 0 &  0 & 0 & 0 & 0 & 0 & 0\\\\\n",
       "\t 1503960366 & 4/13/2016 2:00:00 AM  & 0 &  0 & 0 & 0 & 0 & 0 & 0 &  0 & ⋯ & 0 & 0 & 0 & 0 &  0 & 0 & 0 & 0 & 0 & 0\\\\\n",
       "\t 1503960366 & 4/13/2016 3:00:00 AM  & 0 &  0 & 0 & 0 & 0 & 0 & 0 &  0 & ⋯ & 0 & 0 & 0 & 0 &  0 & 0 & 0 & 0 & 0 & 0\\\\\n",
       "\t 1503960366 & 4/13/2016 4:00:00 AM  & 0 &  0 & 0 & 0 & 0 & 0 & 0 &  0 & ⋯ & 0 & 0 & 0 & 0 &  0 & 0 & 0 & 0 & 0 & 0\\\\\n",
       "\t 1503960366 & 4/13/2016 5:00:00 AM  & 0 &  0 & 0 & 0 & 0 & 0 & 0 &  0 & ⋯ & 0 & 0 & 0 & 0 &  0 & 0 & 0 & 0 & 0 & 0\\\\\n",
       "\\end{tabular}\n"
      ],
      "text/markdown": [
       "\n",
       "A tibble: 6 × 62\n",
       "\n",
       "| Id &lt;dbl&gt; | ActivityHour &lt;chr&gt; | Steps00 &lt;dbl&gt; | Steps01 &lt;dbl&gt; | Steps02 &lt;dbl&gt; | Steps03 &lt;dbl&gt; | Steps04 &lt;dbl&gt; | Steps05 &lt;dbl&gt; | Steps06 &lt;dbl&gt; | Steps07 &lt;dbl&gt; | ⋯ ⋯ | Steps50 &lt;dbl&gt; | Steps51 &lt;dbl&gt; | Steps52 &lt;dbl&gt; | Steps53 &lt;dbl&gt; | Steps54 &lt;dbl&gt; | Steps55 &lt;dbl&gt; | Steps56 &lt;dbl&gt; | Steps57 &lt;dbl&gt; | Steps58 &lt;dbl&gt; | Steps59 &lt;dbl&gt; |\n",
       "|---|---|---|---|---|---|---|---|---|---|---|---|---|---|---|---|---|---|---|---|---|\n",
       "| 1503960366 | 4/13/2016 12:00:00 AM | 4 | 16 | 0 | 0 | 0 | 9 | 0 | 17 | ⋯ | 0 | 9 | 8 | 0 | 20 | 1 | 0 | 0 | 0 | 0 |\n",
       "| 1503960366 | 4/13/2016 1:00:00 AM  | 0 |  0 | 0 | 0 | 0 | 0 | 0 |  0 | ⋯ | 0 | 0 | 0 | 0 |  0 | 0 | 0 | 0 | 0 | 0 |\n",
       "| 1503960366 | 4/13/2016 2:00:00 AM  | 0 |  0 | 0 | 0 | 0 | 0 | 0 |  0 | ⋯ | 0 | 0 | 0 | 0 |  0 | 0 | 0 | 0 | 0 | 0 |\n",
       "| 1503960366 | 4/13/2016 3:00:00 AM  | 0 |  0 | 0 | 0 | 0 | 0 | 0 |  0 | ⋯ | 0 | 0 | 0 | 0 |  0 | 0 | 0 | 0 | 0 | 0 |\n",
       "| 1503960366 | 4/13/2016 4:00:00 AM  | 0 |  0 | 0 | 0 | 0 | 0 | 0 |  0 | ⋯ | 0 | 0 | 0 | 0 |  0 | 0 | 0 | 0 | 0 | 0 |\n",
       "| 1503960366 | 4/13/2016 5:00:00 AM  | 0 |  0 | 0 | 0 | 0 | 0 | 0 |  0 | ⋯ | 0 | 0 | 0 | 0 |  0 | 0 | 0 | 0 | 0 | 0 |\n",
       "\n"
      ],
      "text/plain": [
       "  Id         ActivityHour          Steps00 Steps01 Steps02 Steps03 Steps04\n",
       "1 1503960366 4/13/2016 12:00:00 AM 4       16      0       0       0      \n",
       "2 1503960366 4/13/2016 1:00:00 AM  0        0      0       0       0      \n",
       "3 1503960366 4/13/2016 2:00:00 AM  0        0      0       0       0      \n",
       "4 1503960366 4/13/2016 3:00:00 AM  0        0      0       0       0      \n",
       "5 1503960366 4/13/2016 4:00:00 AM  0        0      0       0       0      \n",
       "6 1503960366 4/13/2016 5:00:00 AM  0        0      0       0       0      \n",
       "  Steps05 Steps06 Steps07 ⋯ Steps50 Steps51 Steps52 Steps53 Steps54 Steps55\n",
       "1 9       0       17      ⋯ 0       9       8       0       20      1      \n",
       "2 0       0        0      ⋯ 0       0       0       0        0      0      \n",
       "3 0       0        0      ⋯ 0       0       0       0        0      0      \n",
       "4 0       0        0      ⋯ 0       0       0       0        0      0      \n",
       "5 0       0        0      ⋯ 0       0       0       0        0      0      \n",
       "6 0       0        0      ⋯ 0       0       0       0        0      0      \n",
       "  Steps56 Steps57 Steps58 Steps59\n",
       "1 0       0       0       0      \n",
       "2 0       0       0       0      \n",
       "3 0       0       0       0      \n",
       "4 0       0       0       0      \n",
       "5 0       0       0       0      \n",
       "6 0       0       0       0      "
      ]
     },
     "metadata": {},
     "output_type": "display_data"
    }
   ],
   "source": [
    "head(minute_steps)"
   ]
  },
  {
   "cell_type": "markdown",
   "id": "91eb604f-84d9-48cc-9af8-307e57782579",
   "metadata": {},
   "source": [
    "# Removing Data Frames:"
   ]
  },
  {
   "cell_type": "markdown",
   "id": "f6eb3881-b072-4258-9b66-f578a5ffafcb",
   "metadata": {},
   "source": [
    "Each data frames contained ''id'' column so it was necessary to merge. Another name for daily_activity was given to create a separate and temporary data frame. \n",
    "The SQL package was loaded to bring out three important columns in daily_activity. "
   ]
  },
  {
   "cell_type": "code",
   "execution_count": 36,
   "id": "7d7e2d2d-fb2f-4e70-8062-dfa3b20f7cf4",
   "metadata": {},
   "outputs": [],
   "source": [
    "library(sqldf)"
   ]
  },
  {
   "cell_type": "code",
   "execution_count": 38,
   "id": "3b8090e8-18e2-4434-afab-b97b76d75510",
   "metadata": {},
   "outputs": [
    {
     "data": {
      "text/html": [
       "<table class=\"dataframe\">\n",
       "<caption>A tibble: 6 × 3</caption>\n",
       "<thead>\n",
       "\t<tr><th scope=col>Id</th><th scope=col>ActivityDate</th><th scope=col>Calories</th></tr>\n",
       "\t<tr><th scope=col>&lt;dbl&gt;</th><th scope=col>&lt;chr&gt;</th><th scope=col>&lt;dbl&gt;</th></tr>\n",
       "</thead>\n",
       "<tbody>\n",
       "\t<tr><td>1503960366</td><td>4/12/2016</td><td>1985</td></tr>\n",
       "\t<tr><td>1503960366</td><td>4/13/2016</td><td>1797</td></tr>\n",
       "\t<tr><td>1503960366</td><td>4/14/2016</td><td>1776</td></tr>\n",
       "\t<tr><td>1503960366</td><td>4/15/2016</td><td>1745</td></tr>\n",
       "\t<tr><td>1503960366</td><td>4/16/2016</td><td>1863</td></tr>\n",
       "\t<tr><td>1503960366</td><td>4/17/2016</td><td>1728</td></tr>\n",
       "</tbody>\n",
       "</table>\n"
      ],
      "text/latex": [
       "A tibble: 6 × 3\n",
       "\\begin{tabular}{lll}\n",
       " Id & ActivityDate & Calories\\\\\n",
       " <dbl> & <chr> & <dbl>\\\\\n",
       "\\hline\n",
       "\t 1503960366 & 4/12/2016 & 1985\\\\\n",
       "\t 1503960366 & 4/13/2016 & 1797\\\\\n",
       "\t 1503960366 & 4/14/2016 & 1776\\\\\n",
       "\t 1503960366 & 4/15/2016 & 1745\\\\\n",
       "\t 1503960366 & 4/16/2016 & 1863\\\\\n",
       "\t 1503960366 & 4/17/2016 & 1728\\\\\n",
       "\\end{tabular}\n"
      ],
      "text/markdown": [
       "\n",
       "A tibble: 6 × 3\n",
       "\n",
       "| Id &lt;dbl&gt; | ActivityDate &lt;chr&gt; | Calories &lt;dbl&gt; |\n",
       "|---|---|---|\n",
       "| 1503960366 | 4/12/2016 | 1985 |\n",
       "| 1503960366 | 4/13/2016 | 1797 |\n",
       "| 1503960366 | 4/14/2016 | 1776 |\n",
       "| 1503960366 | 4/15/2016 | 1745 |\n",
       "| 1503960366 | 4/16/2016 | 1863 |\n",
       "| 1503960366 | 4/17/2016 | 1728 |\n",
       "\n"
      ],
      "text/plain": [
       "  Id         ActivityDate Calories\n",
       "1 1503960366 4/12/2016    1985    \n",
       "2 1503960366 4/13/2016    1797    \n",
       "3 1503960366 4/14/2016    1776    \n",
       "4 1503960366 4/15/2016    1745    \n",
       "5 1503960366 4/16/2016    1863    \n",
       "6 1503960366 4/17/2016    1728    "
      ]
     },
     "metadata": {},
     "output_type": "display_data"
    },
    {
     "data": {
      "text/html": [
       "<table class=\"dataframe\">\n",
       "<caption>A data.frame: 6 × 3</caption>\n",
       "<thead>\n",
       "\t<tr><th></th><th scope=col>Id</th><th scope=col>ActivityDate</th><th scope=col>Calories</th></tr>\n",
       "\t<tr><th></th><th scope=col>&lt;dbl&gt;</th><th scope=col>&lt;chr&gt;</th><th scope=col>&lt;dbl&gt;</th></tr>\n",
       "</thead>\n",
       "<tbody>\n",
       "\t<tr><th scope=row>1</th><td>1503960366</td><td>4/12/2016</td><td>1985</td></tr>\n",
       "\t<tr><th scope=row>2</th><td>1503960366</td><td>4/13/2016</td><td>1797</td></tr>\n",
       "\t<tr><th scope=row>3</th><td>1503960366</td><td>4/14/2016</td><td>1776</td></tr>\n",
       "\t<tr><th scope=row>4</th><td>1503960366</td><td>4/15/2016</td><td>1745</td></tr>\n",
       "\t<tr><th scope=row>5</th><td>1503960366</td><td>4/16/2016</td><td>1863</td></tr>\n",
       "\t<tr><th scope=row>6</th><td>1503960366</td><td>4/17/2016</td><td>1728</td></tr>\n",
       "</tbody>\n",
       "</table>\n"
      ],
      "text/latex": [
       "A data.frame: 6 × 3\n",
       "\\begin{tabular}{r|lll}\n",
       "  & Id & ActivityDate & Calories\\\\\n",
       "  & <dbl> & <chr> & <dbl>\\\\\n",
       "\\hline\n",
       "\t1 & 1503960366 & 4/12/2016 & 1985\\\\\n",
       "\t2 & 1503960366 & 4/13/2016 & 1797\\\\\n",
       "\t3 & 1503960366 & 4/14/2016 & 1776\\\\\n",
       "\t4 & 1503960366 & 4/15/2016 & 1745\\\\\n",
       "\t5 & 1503960366 & 4/16/2016 & 1863\\\\\n",
       "\t6 & 1503960366 & 4/17/2016 & 1728\\\\\n",
       "\\end{tabular}\n"
      ],
      "text/markdown": [
       "\n",
       "A data.frame: 6 × 3\n",
       "\n",
       "| <!--/--> | Id &lt;dbl&gt; | ActivityDate &lt;chr&gt; | Calories &lt;dbl&gt; |\n",
       "|---|---|---|---|\n",
       "| 1 | 1503960366 | 4/12/2016 | 1985 |\n",
       "| 2 | 1503960366 | 4/13/2016 | 1797 |\n",
       "| 3 | 1503960366 | 4/14/2016 | 1776 |\n",
       "| 4 | 1503960366 | 4/15/2016 | 1745 |\n",
       "| 5 | 1503960366 | 4/16/2016 | 1863 |\n",
       "| 6 | 1503960366 | 4/17/2016 | 1728 |\n",
       "\n"
      ],
      "text/plain": [
       "  Id         ActivityDate Calories\n",
       "1 1503960366 4/12/2016    1985    \n",
       "2 1503960366 4/13/2016    1797    \n",
       "3 1503960366 4/14/2016    1776    \n",
       "4 1503960366 4/15/2016    1745    \n",
       "5 1503960366 4/16/2016    1863    \n",
       "6 1503960366 4/17/2016    1728    "
      ]
     },
     "metadata": {},
     "output_type": "display_data"
    }
   ],
   "source": [
    "daily_activity_2 <- daily_activity %>%\n",
    "select(Id, ActivityDate, Calories)\n",
    "head(daily_activity_2)\n",
    "sql_check <-sqldf('select* FROM daily_activity_2 INTERSECT SELECT * FROM daily_calories')\n",
    "head(sql_check)"
   ]
  },
  {
   "cell_type": "markdown",
   "id": "5b411752-c5ca-4911-a24f-60e1c8250478",
   "metadata": {},
   "source": [
    "## Exploring and summarizing data"
   ]
  },
  {
   "cell_type": "markdown",
   "id": "4ecbac5b-f9b6-4185-9b64-e53fb1aa93d0",
   "metadata": {},
   "source": [
    " The n_distinct() and nrow() functions are used to determine the number of unique values and the number of rows in a data frame, respectively."
   ]
  },
  {
   "cell_type": "code",
   "execution_count": 41,
   "id": "d9bf3f0e-adf1-472b-9999-e5f2e468e6ba",
   "metadata": {},
   "outputs": [
    {
     "data": {
      "text/html": [
       "33"
      ],
      "text/latex": [
       "33"
      ],
      "text/markdown": [
       "33"
      ],
      "text/plain": [
       "[1] 33"
      ]
     },
     "metadata": {},
     "output_type": "display_data"
    },
    {
     "data": {
      "text/html": [
       "24"
      ],
      "text/latex": [
       "24"
      ],
      "text/markdown": [
       "24"
      ],
      "text/plain": [
       "[1] 24"
      ]
     },
     "metadata": {},
     "output_type": "display_data"
    },
    {
     "data": {
      "text/html": [
       "8"
      ],
      "text/latex": [
       "8"
      ],
      "text/markdown": [
       "8"
      ],
      "text/plain": [
       "[1] 8"
      ]
     },
     "metadata": {},
     "output_type": "display_data"
    },
    {
     "data": {
      "text/html": [
       "33"
      ],
      "text/latex": [
       "33"
      ],
      "text/markdown": [
       "33"
      ],
      "text/plain": [
       "[1] 33"
      ]
     },
     "metadata": {},
     "output_type": "display_data"
    },
    {
     "data": {
      "text/html": [
       "940"
      ],
      "text/latex": [
       "940"
      ],
      "text/markdown": [
       "940"
      ],
      "text/plain": [
       "[1] 940"
      ]
     },
     "metadata": {},
     "output_type": "display_data"
    },
    {
     "data": {
      "text/html": [
       "413"
      ],
      "text/latex": [
       "413"
      ],
      "text/markdown": [
       "413"
      ],
      "text/plain": [
       "[1] 413"
      ]
     },
     "metadata": {},
     "output_type": "display_data"
    }
   ],
   "source": [
    "n_distinct(daily_activity$Id)\n",
    "n_distinct(sleep_day$Id)\n",
    "n_distinct(weight_log$Id)\n",
    "n_distinct(daily_activity$Id)\n",
    "nrow(daily_activity)\n",
    "nrow(sleep_day)"
   ]
  },
  {
   "cell_type": "markdown",
   "id": "e1f12be2-4ee4-415a-8d8c-c13414f48272",
   "metadata": {},
   "source": [
    "The Summary() function was used to grab key statistics about the data frame"
   ]
  },
  {
   "cell_type": "markdown",
   "id": "91a1ef88-f24e-4d1c-affd-eb5e3b5bcddf",
   "metadata": {},
   "source": [
    "Daily_Activity"
   ]
  },
  {
   "cell_type": "code",
   "execution_count": 56,
   "id": "353063e7-ab3e-4959-bc95-b57ef39b1ec2",
   "metadata": {},
   "outputs": [
    {
     "data": {
      "text/plain": [
       "   TotalSteps    TotalDistance    SedentaryMinutes LightlyActiveMinutes\n",
       " Min.   :    0   Min.   : 0.000   Min.   :   0.0   Min.   :  0.0       \n",
       " 1st Qu.: 3790   1st Qu.: 2.620   1st Qu.: 729.8   1st Qu.:127.0       \n",
       " Median : 7406   Median : 5.245   Median :1057.5   Median :199.0       \n",
       " Mean   : 7638   Mean   : 5.490   Mean   : 991.2   Mean   :192.8       \n",
       " 3rd Qu.:10727   3rd Qu.: 7.713   3rd Qu.:1229.5   3rd Qu.:264.0       \n",
       " Max.   :36019   Max.   :28.030   Max.   :1440.0   Max.   :518.0       \n",
       " FairlyActiveMinutes VeryActiveMinutes    Calories   \n",
       " Min.   :  0.00      Min.   :  0.00    Min.   :   0  \n",
       " 1st Qu.:  0.00      1st Qu.:  0.00    1st Qu.:1828  \n",
       " Median :  6.00      Median :  4.00    Median :2134  \n",
       " Mean   : 13.56      Mean   : 21.16    Mean   :2304  \n",
       " 3rd Qu.: 19.00      3rd Qu.: 32.00    3rd Qu.:2793  \n",
       " Max.   :143.00      Max.   :210.00    Max.   :4900  "
      ]
     },
     "metadata": {},
     "output_type": "display_data"
    }
   ],
   "source": [
    "daily_activity %>%\n",
    "select(TotalSteps,TotalDistance,SedentaryMinutes,LightlyActiveMinutes,FairlyActiveMinutes,VeryActiveMinutes, Calories) %>%\n",
    "summary()"
   ]
  },
  {
   "cell_type": "markdown",
   "id": "9a038ea3-53a3-4137-971c-575c42a147ef",
   "metadata": {},
   "source": [
    "This Summary shows that the average person took about 7638 steps a day. Seems like alot, however, its still under the recommended amount provided by the CDC [1]. To futher, it seems as though users have high sedentary mintues of at least 991.2 per week. This particaulary is a high risk for day to day workouts excluding what the users diet is. On the bright side, users had an average of 21.16 mintues of very active mintues per day which sets them above the average of  high active workout mintues per week. CDC claims a person should workout at least 75 minutes a week but these users exceeded past the required amount by a sizable margin, thus being on track for losing 2-3 pounds per week."
   ]
  },
  {
   "cell_type": "markdown",
   "id": "fc17c2ac-3c4e-4656-8dca-5ca44b8130d3",
   "metadata": {},
   "source": [
    "heart_rate"
   ]
  },
  {
   "cell_type": "code",
   "execution_count": 57,
   "id": "2a82c0cb-f659-4156-9ea6-bcbcfb0e99bb",
   "metadata": {},
   "outputs": [
    {
     "data": {
      "text/plain": [
       "     Value       \n",
       " Min.   : 36.00  \n",
       " 1st Qu.: 63.00  \n",
       " Median : 73.00  \n",
       " Mean   : 77.33  \n",
       " 3rd Qu.: 88.00  \n",
       " Max.   :203.00  "
      ]
     },
     "metadata": {},
     "output_type": "display_data"
    }
   ],
   "source": [
    "heart_rate %>%\n",
    "  select(Value) %>%\n",
    "  summary()"
   ]
  },
  {
   "cell_type": "markdown",
   "id": "108d8115-b433-4757-8d53-a6c4daae8187",
   "metadata": {},
   "source": [
    "Despite the low numbers of users in this section, it seems as though the heartrate for women is at a \"normal\" range. For women, normal is considered anything betweeen 53-82 BPM. However, study shows that it is vital to understand their own bodies an adjust accordingly to whats right for them. This is because resting heart rate differ between a person. Factors such as mestrual cycles or infections can really change a women heart rate so thats why its important to take personal note."
   ]
  },
  {
   "cell_type": "markdown",
   "id": "f30b5e37-0898-4f7e-a317-d5cc33b21c47",
   "metadata": {},
   "source": [
    "Sleep_day"
   ]
  },
  {
   "cell_type": "code",
   "execution_count": 60,
   "id": "fe329728-e1a1-4184-93d7-eef92c51f5a4",
   "metadata": {},
   "outputs": [
    {
     "data": {
      "text/plain": [
       " TotalSleepRecords TotalMinutesAsleep TotalTimeInBed \n",
       " Min.   :1.000     Min.   : 58.0      Min.   : 61.0  \n",
       " 1st Qu.:1.000     1st Qu.:361.0      1st Qu.:403.0  \n",
       " Median :1.000     Median :433.0      Median :463.0  \n",
       " Mean   :1.119     Mean   :419.5      Mean   :458.6  \n",
       " 3rd Qu.:1.000     3rd Qu.:490.0      3rd Qu.:526.0  \n",
       " Max.   :3.000     Max.   :796.0      Max.   :961.0  "
      ]
     },
     "metadata": {},
     "output_type": "display_data"
    }
   ],
   "source": [
    "sleep_day %>%\n",
    "  select(TotalSleepRecords,TotalMinutesAsleep,TotalTimeInBed) %>%\n",
    "  summary()"
   ]
  },
  {
   "cell_type": "markdown",
   "id": "a0f8a4cd-1dee-47e2-9120-a8146ef9e0ac",
   "metadata": {},
   "source": [
    "The summary of sleeps shows that each day, the user gets about 7.64 hours of sleep. This is promising, given the fact that CDC wants people to have at least 7 hours of sleep for a well rested brain. Time in bed awake falls positively short because reasearch suggests that no person should spend more than an hour in bed awake. Some studies shows that this could lead to links within your brain that would cause insomnia."
   ]
  },
  {
   "cell_type": "markdown",
   "id": "056daf6f-e314-472b-a460-1e4f12133898",
   "metadata": {},
   "source": [
    "Weight_log"
   ]
  },
  {
   "cell_type": "code",
   "execution_count": 61,
   "id": "50970bee-4893-47a5-a720-d919b7081fed",
   "metadata": {},
   "outputs": [
    {
     "data": {
      "text/plain": [
       "    WeightKg       WeightPounds        Fat             BMI       \n",
       " Min.   : 52.60   Min.   :116.0   Min.   :22.00   Min.   :21.45  \n",
       " 1st Qu.: 61.40   1st Qu.:135.4   1st Qu.:22.75   1st Qu.:23.96  \n",
       " Median : 62.50   Median :137.8   Median :23.50   Median :24.39  \n",
       " Mean   : 72.04   Mean   :158.8   Mean   :23.50   Mean   :25.19  \n",
       " 3rd Qu.: 85.05   3rd Qu.:187.5   3rd Qu.:24.25   3rd Qu.:25.56  \n",
       " Max.   :133.50   Max.   :294.3   Max.   :25.00   Max.   :47.54  \n",
       "                                  NA's   :65                     "
      ]
     },
     "metadata": {},
     "output_type": "display_data"
    }
   ],
   "source": [
    "weight_log %>%\n",
    "  select(WeightKg,WeightPounds,Fat,BMI,) %>%\n",
    "  summary()"
   ]
  },
  {
   "cell_type": "markdown",
   "id": "6e677769-14ab-4d45-ab52-891819be47f8",
   "metadata": {},
   "source": [
    "This summary shows that the average BMI is 25.19. On record this could be considered overweight, but with missing elements such as height and age, its unknown."
   ]
  },
  {
   "cell_type": "markdown",
   "id": "4b4d00ff-c04b-49d7-ac3d-be2d48694718",
   "metadata": {},
   "source": [
    "# Share:"
   ]
  },
  {
   "cell_type": "markdown",
   "id": "8a1815ef-ac21-4222-a35c-263fb93a02fb",
   "metadata": {},
   "source": [
    "The ggplot() function of R Studio was used to create data visualizations that depict patterns and trends found in the data frames."
   ]
  },
  {
   "cell_type": "code",
   "execution_count": 63,
   "id": "284d556d-813a-4bf8-9c32-3ad691ce1de2",
   "metadata": {},
   "outputs": [
    {
     "name": "stderr",
     "output_type": "stream",
     "text": [
      "`geom_smooth()` using method = 'loess' and formula 'y ~ x'\n",
      "\n"
     ]
    },
    {
     "data": {
      "image/png": "[encoded data removed]",
      "text/plain": [
       "plot without title"
      ]
     },
     "metadata": {
      "image/png": {
       "height": 420,
       "width": 420
      }
     },
     "output_type": "display_data"
    }
   ],
   "source": [
    "ggplot(data = daily_activity)+geom_point(mapping = aes(x=VeryActiveMinutes,y=Calories))+ geom_smooth(mapping = aes(x=VeryActiveMinutes,y=Calories))+ labs(title = \"the realationship between very active mintues and total calories burned\")"
   ]
  },
  {
   "cell_type": "markdown",
   "id": "ca87314e-d04f-4d28-8128-210e7216133f",
   "metadata": {},
   "source": [
    "Plot 1 shows the realationship between very active minutes and total calories burned. Looking at his plot shows us that the more intense the workouts were, the more calories you would burn."
   ]
  },
  {
   "cell_type": "code",
   "execution_count": 64,
   "id": "485fc3b4-91c7-4b91-a413-ad062c3895df",
   "metadata": {},
   "outputs": [
    {
     "name": "stderr",
     "output_type": "stream",
     "text": [
      "`geom_smooth()` using method = 'loess' and formula 'y ~ x'\n",
      "\n"
     ]
    },
    {
     "data": {
      "image/png": "[encoded data removed]",
      "text/plain": [
       "plot without title"
      ]
     },
     "metadata": {
      "image/png": {
       "height": 420,
       "width": 420
      }
     },
     "output_type": "display_data"
    }
   ],
   "source": [
    "ggplot(data = daily_activity)+geom_point(mapping = aes(x=TotalSteps,y=Calories))+ geom_smooth(mapping = aes(x=TotalSteps,y=Calories))+ labs(title = \"the realationship between very active mintues and total calories burned\")"
   ]
  },
  {
   "cell_type": "markdown",
   "id": "c81641d6-817a-4805-b6d3-6c4ff297d974",
   "metadata": {},
   "source": [
    "Plot 2 shows us the realationship between total steps and calories burned. Judging of of the chart it seems as though the more the users took a high amount of steps, the more they would burn in calories."
   ]
  },
  {
   "cell_type": "code",
   "execution_count": 65,
   "id": "705a6a8e-52d9-4725-960d-bbdc07fd11ce",
   "metadata": {},
   "outputs": [
    {
     "name": "stderr",
     "output_type": "stream",
     "text": [
      "`geom_smooth()` using method = 'loess' and formula 'y ~ x'\n",
      "\n"
     ]
    },
    {
     "data": {
      "image/png": "[encoded data removed]",
      "text/plain": [
       "plot without title"
      ]
     },
     "metadata": {
      "image/png": {
       "height": 420,
       "width": 420
      }
     },
     "output_type": "display_data"
    }
   ],
   "source": [
    "ggplot(data = daily_activity)+geom_smooth(mapping = aes(x=TotalDistance, y=Calories)) + labs(title =  \"The realationship between Total Distance and Total Calories\")"
   ]
  },
  {
   "cell_type": "markdown",
   "id": "bbdcf9b2-22ae-4b8c-b25d-a74548f9bb3a",
   "metadata": {},
   "source": [
    "Plot 3 shows us the realationship between total distance and calories burned. Study claims that the further the distance, the more calories you burn. It seems as though these users were on a steady track for meeting the standard goal of a healthy lifestyle."
   ]
  },
  {
   "cell_type": "markdown",
   "id": "e3ba2fb6-aa78-49b8-83dd-dbf2499ddf6a",
   "metadata": {},
   "source": [
    "# Act:"
   ]
  },
  {
   "cell_type": "markdown",
   "id": "2c4358ee-8429-46ad-a459-637ea3bc21fa",
   "metadata": {},
   "source": [
    "BellaBeat has so far been a successful company in the health based smart device market. It has, in many ways, truly empowered women to have a better understanding of their health habits. Providing motivation by closely tracking their sleep, activity, stress, hydration levels, and reproductive health. After analyzing and studying the data, there are helpful reccomendations that can be given to improve the companies growth exponentially."
   ]
  },
  {
   "cell_type": "markdown",
   "id": "dae3c05e-2f77-4cdf-be32-4b11d0bc0707",
   "metadata": {},
   "source": [
    "The BellaBeat app should definitely be revised in order to bring more attention to users and non-users. Inspiration should be instilled to further interest their need to be on the app daily. Better connectivity should be implemented to bring more attention. Ideas such as expanding the social aspect of the app and allowing women to collect, transfer, and share their information. With this, a stronger foundation could bring women together socially as some sort of sister-hood to help inspire each other. It is essential in life to have a partner of some sort to help motivate each other throughout vigorous acitivty to keep better consistency. If this feature was an option, womens health would be better prioritized."
   ]
  },
  {
   "cell_type": "markdown",
   "id": "0fa4548e-581c-4719-a14b-50c98d778f47",
   "metadata": {},
   "source": [
    "### Recommendations for Bellabeat app:"
   ]
  },
  {
   "cell_type": "markdown",
   "id": "49becf9b-625d-43e6-86e3-7e3a9fb1794e",
   "metadata": {},
   "source": [
    "- offer a social networking feature so users can post their favorite workouts, wellness advice, healthy meals, etc.\n",
    "- Enable users to add friends and view each other’s activity on a day to day basis.\n",
    "- Create weekly challenges that go beyond CDC recommended workouts.\n",
    "- Advertising and marketing in many areas.\n",
    "- enable alert notifications to remind users of their goals even if met.\n",
    "- enable a text entry that allows women to put in their height, age, and weight.\n",
    "- Enable notifications to encourage activity if a user has been sedentary for an extended period of time.\n",
    "- suggests certain workout on different parts of the body that would be helpful.\n",
    "- Recommend users to get at least 7 hours of sleep a night and enable alert notifications to encourage users to meet this.\n"
   ]
  },
  {
   "cell_type": "markdown",
   "id": "4416a591-948a-4c27-b95e-3cfd92df0c84",
   "metadata": {},
   "source": [
    "###  Recommendations for Bellabeat Memberships"
   ]
  },
  {
   "cell_type": "markdown",
   "id": "63e5c3b2-2a41-47a2-b2db-8476711e8237",
   "metadata": {},
   "source": [
    "- offer 30-day free trial subscription\n",
    "- Offer discounts for Bellabeat smart device products with membership.\n",
    "- Partner with health & fitness companies and offer discounts for members.\n",
    "- Offer cheaper subscription fee when a member refers a friend."
   ]
  },
  {
   "cell_type": "markdown",
   "id": "7ffc1358-363a-4463-84b7-f76830c63a30",
   "metadata": {},
   "source": [
    "### Recommendations for Bellabeat products:"
   ]
  },
  {
   "cell_type": "markdown",
   "id": "4446c9cc-2619-42b1-80c8-dc35516d67d8",
   "metadata": {},
   "source": [
    "- Offer a bundle deal for the Spring and Leaf together.\n",
    "- Heavily market the fashion of the wearbles products.\n",
    "- Present colorful and dynamic options for the spring water bottles."
   ]
  },
  {
   "cell_type": "markdown",
   "id": "2d146823-a6dd-4b85-be5c-9e96ceed818a",
   "metadata": {},
   "source": [
    "# Work cited:"
   ]
  },
  {
   "cell_type": "markdown",
   "id": "4cfaa83e-5b0e-4958-801a-0de2e8612d43",
   "metadata": {},
   "source": [
    "https://bellabeat.com/"
   ]
  },
  {
   "cell_type": "markdown",
   "id": "7a9e9e64-9dc2-4132-9b4d-86e7513b57ec",
   "metadata": {},
   "source": [
    "https://www.cdc.gov/sleep/about_sleep/how_much_sleep.html"
   ]
  },
  {
   "cell_type": "markdown",
   "id": "3f3f2226-e644-4b99-a682-49a68098d642",
   "metadata": {},
   "source": [
    "https://www.cnn.com/2017/06/22/health/sitting-exercise-davis#:~:text=The%20damage%20from%20prolonged%20sitting,and%20remove%20harmful%20blood%20fats."
   ]
  },
  {
   "cell_type": "markdown",
   "id": "2472e6c1-85bb-4481-aa18-65dc517d6977",
   "metadata": {},
   "source": [
    "https://www.healthcentral.com/article/spend-less-time-in-bed-if-you-want-more-sleep"
   ]
  },
  {
   "cell_type": "markdown",
   "id": "ba81e0f5-ce36-4637-902b-ef6933f90752",
   "metadata": {},
   "source": [
    "https://www.cdc.gov/physicalactivity/basics/adults/index.htm"
   ]
  },
  {
   "cell_type": "markdown",
   "id": "8fea792d-a021-41de-8867-b97d8cf9db3b",
   "metadata": {},
   "source": [
    "https://www.cdc.gov/diabetes/library/spotlights/workout-buddy.html"
   ]
  },
  {
   "cell_type": "markdown",
   "id": "5d3a1014-8f28-434b-8d77-cf8d69d270e5",
   "metadata": {},
   "source": [
    "https://www.healthline.com/health-news/what-your-heart-rate-says-about-your-health"
   ]
  },
  {
   "cell_type": "markdown",
   "id": "2908b203-ae07-4961-8adf-14e23762754b",
   "metadata": {},
   "source": [
    "https://www.cdc.gov/healthyweight/assessing/bmi/adult_bmi/index.html"
   ]
  },
  {
   "cell_type": "markdown",
   "id": "c02a6158-c7fd-47cd-89bd-74887ae6c77e",
   "metadata": {},
   "source": []
  }
 ],
 "metadata": {
  "kernelspec": {
   "display_name": "R",
   "language": "R",
   "name": "ir"
  },
  "language_info": {
   "codemirror_mode": "r",
   "file_extension": ".r",
   "mimetype": "text/x-r-source",
   "name": "R",
   "pygments_lexer": "r",
   "version": "4.2.1"
  }
 },
 "nbformat": 4,
 "nbformat_minor": 5
}
